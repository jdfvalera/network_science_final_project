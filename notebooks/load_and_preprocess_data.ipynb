{
 "cells": [
  {
   "cell_type": "code",
   "execution_count": 1,
   "id": "2530055c",
   "metadata": {},
   "outputs": [],
   "source": [
    "import pandas as pd\n",
    "import networkx as nx\n",
    "import matplotlib.pyplot as plt\n",
    "from itertools import combinations\n",
    "import seaborn as sns"
   ]
  },
  {
   "cell_type": "code",
   "execution_count": 6,
   "id": "e40a2c89",
   "metadata": {},
   "outputs": [],
   "source": [
    "# Load the CSV file\n",
    "df = pd.read_csv(\"../data/all_drinks.csv\")\n",
    "\n",
    "# Filter for alcoholic drinks\n",
    "df_alcoholic = df[df['strAlcoholic'] == 'Alcoholic'].copy()\n",
    "\n",
    "# Extract ingredient columns (strIngredient1 to strIngredient15)\n",
    "ingredient_cols = [f'strIngredient{i}' for i in range(1, 16)]\n",
    "ingredients = df_alcoholic[ingredient_cols].values\n",
    "\n",
    "# Define a mapping for standardizing ingredient names (synonyms and variations)\n",
    "ingredient_mapping = {\n",
    "    'creme de cacao': ['creme de cacao', 'dark creme de cacao', 'white creme de cacao'],\n",
    "    'lemon juice': ['lemon juice', 'fresh lemon juice'],\n",
    "    'cranberry juice': ['cranberry juice', 'cranberries'],\n",
    "    'orange juice': ['orange juice', 'tropicana'],\n",
    "    'sweet vermouth': ['sweet vermouth', 'vermouth'],\n",
    "    'dry vermouth': ['dry vermouth'],\n",
    "    'vodka': ['vodka', 'absolut vodka', 'absolut citron', 'absolut kurant', 'vanilla vodka', 'lemon vodka', 'cranberry vodka', 'peach vodka'],\n",
    "    'rum': ['rum', 'light rum', 'dark rum', 'spiced rum', 'malibu rum', 'coconut rum', 'añejo rum', 'white rum'],\n",
    "    'gin': ['gin'],\n",
    "    'tequila': ['tequila', 'gold tequila'],\n",
    "    'triple sec': ['triple sec', 'cointreau', 'orange curacao'],\n",
    "    'amaretto': ['amaretto'],\n",
    "    'kahlua': ['kahlua', 'coffee liqueur'],\n",
    "    'bailey\\'s irish cream': ['bailey\\'s irish cream', 'irish cream'],\n",
    "    'sour mix': ['sour mix', 'sweet and sour'],\n",
    "    'soda water': ['soda water', 'club soda', 'carbonated water'],\n",
    "    'pineapple juice': ['pineapple juice'],\n",
    "    'grenadine': ['grenadine'],\n",
    "    'lime juice': ['lime juice', 'fresh lime juice'],\n",
    "    'grand marnier': ['grand marnier'],\n",
    "    'peach schnapps': ['peach schnapps', 'peachtree schnapps'],\n",
    "    'blue curacao': ['blue curacao'],\n",
    "    'midori melon liqueur': ['midori melon liqueur', 'melon liqueur'],\n",
    "    'ginger ale': ['ginger ale'],\n",
    "    'coca-cola': ['coca-cola', 'pepsi cola'],\n",
    "    'lemon': ['lemon', 'lemon peel'],\n",
    "    'orange': ['orange', 'orange peel'],\n",
    "    'cherry': ['cherry', 'maraschino cherry'],\n",
    "    'coffee': ['coffee'],\n",
    "    'brandy': ['brandy', 'apricot brandy', 'apple brandy', 'cherry brandy', 'coffee brandy'],\n",
    "    'whiskey': ['whiskey', 'blended whiskey', 'bourbon', 'scotch', 'irish whiskey', 'jack daniels', 'jim beam', 'wild turkey', 'tennessee whiskey', 'johnnie walker', 'crown royal'],\n",
    "}\n",
    "\n",
    "# Invert mapping for easier lookup\n",
    "lookup = {}\n",
    "for standard, variants in ingredient_mapping.items():\n",
    "    for variant in variants:\n",
    "        lookup[variant.lower()] = standard\n",
    "\n",
    "# Create a list of ingredients per drink, excluding empty or NaN values\n",
    "drink_ingredients = []\n",
    "for row in ingredients:\n",
    "    valid_ingredients = [\n",
    "        lookup.get(ing.strip().lower(), ing.strip().lower())\n",
    "        for ing in row\n",
    "        if pd.notnull(ing) and ing.strip() and ing.strip().lower() not in ['ice', 'sugar', 'water', 'salt', 'food coloring']\n",
    "    ]\n",
    "    # Remove duplicates within a drink while preserving order\n",
    "    seen = set()\n",
    "    unique_ingredients = [ing for ing in valid_ingredients if not (ing in seen or seen.add(ing))]\n",
    "    drink_ingredients.append(unique_ingredients)"
   ]
  },
  {
   "cell_type": "code",
   "execution_count": 7,
   "id": "de5472f0",
   "metadata": {},
   "outputs": [],
   "source": [
    "G = nx.Graph()\n",
    "\n",
    "# Add edges between ingredients that appear in the same drink\n",
    "for ingredients in drink_ingredients:\n",
    "    # Create edges for all pairwise combinations of ingredients in the drink\n",
    "    for ing1, ing2 in combinations(ingredients, 2):\n",
    "        if G.has_edge(ing1, ing2):\n",
    "            G[ing1][ing2]['weight'] += 1\n",
    "        else:\n",
    "            G.add_edge(ing1, ing2, weight=1)"
   ]
  },
  {
   "cell_type": "code",
   "execution_count": 8,
   "id": "4c4fd718",
   "metadata": {},
   "outputs": [
    {
     "name": "stdout",
     "output_type": "stream",
     "text": [
      "Nodes exported to ../data/nodes.csv\n"
     ]
    }
   ],
   "source": [
    "output_file = \"../data/nodes.csv\"\n",
    "# Create nodes DataFrame\n",
    "nodes_data = {\n",
    "    'Id': list(G.nodes()),\n",
    "    'Label': list(G.nodes()),\n",
    "}\n",
    "nodes_df = pd.DataFrame(nodes_data)\n",
    "\n",
    "# Save to CSV\n",
    "nodes_df.to_csv(output_file, index=False)\n",
    "print(f\"Nodes exported to {output_file}\")"
   ]
  },
  {
   "cell_type": "code",
   "execution_count": 9,
   "id": "cf0c95a3",
   "metadata": {},
   "outputs": [
    {
     "name": "stdout",
     "output_type": "stream",
     "text": [
      "Edges exported to ../data/edges.csv\n"
     ]
    }
   ],
   "source": [
    "output_file = \"../data/edges.csv\"\n",
    "\n",
    "# Create edges DataFrame\n",
    "edges_data = {\n",
    "    'Source': [u for u, v in G.edges()],\n",
    "    'Target': [v for u, v in G.edges()],\n",
    "    'Weight': [G[u][v]['weight'] for u, v in G.edges()]\n",
    "}\n",
    "edges_df = pd.DataFrame(edges_data)\n",
    "\n",
    "# Save to CSV\n",
    "edges_df.to_csv(output_file, index=False)\n",
    "print(f\"Edges exported to {output_file}\")"
   ]
  },
  {
   "cell_type": "code",
   "execution_count": null,
   "id": "bbcdf285",
   "metadata": {},
   "outputs": [],
   "source": []
  }
 ],
 "metadata": {
  "kernelspec": {
   "display_name": ".venv",
   "language": "python",
   "name": "python3"
  },
  "language_info": {
   "codemirror_mode": {
    "name": "ipython",
    "version": 3
   },
   "file_extension": ".py",
   "mimetype": "text/x-python",
   "name": "python",
   "nbconvert_exporter": "python",
   "pygments_lexer": "ipython3",
   "version": "3.12.9"
  }
 },
 "nbformat": 4,
 "nbformat_minor": 5
}
